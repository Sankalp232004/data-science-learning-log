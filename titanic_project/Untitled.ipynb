{
 "cells": [
  {
   "cell_type": "code",
   "execution_count": 5,
   "id": "404d6e56-d06f-4d98-80fd-1808a344d5bd",
   "metadata": {},
   "outputs": [
    {
     "name": "stdout",
     "output_type": "stream",
     "text": [
      "--- First 5 Rows ---\n",
      "   PassengerId  Survived  Pclass                         Name     Sex   Age  \\\n",
      "0         1310         1       1  Name1310, Miss. Surname1310  female   NaN   \n",
      "1         1311         0       3   Name1311, Col. Surname1311    male  29.0   \n",
      "2         1312         0       3    Name1312, Mr. Surname1312    male  20.0   \n",
      "3         1313         0       3    Name1313, Mr. Surname1313    male  27.0   \n",
      "4         1314         0       3    Name1314, Mr. Surname1314    male  32.0   \n",
      "\n",
      "   SibSp  Parch            Ticket       Fare Cabin Embarked  \n",
      "0      0      0  SOTON/O2 3101272  76.760165   NaN        C  \n",
      "1      0      0            223596  10.193097   NaN        S  \n",
      "2      0      0             54636  12.029416   C83        C  \n",
      "3      0      0          PC 17760  13.429448   NaN        S  \n",
      "4      0      0            364512   4.840769   E33        C  \n",
      "\n",
      "--- Data Info ---\n",
      "<class 'pandas.core.frame.DataFrame'>\n",
      "RangeIndex: 1000000 entries, 0 to 999999\n",
      "Data columns (total 12 columns):\n",
      " #   Column       Non-Null Count    Dtype  \n",
      "---  ------       --------------    -----  \n",
      " 0   PassengerId  1000000 non-null  int64  \n",
      " 1   Survived     1000000 non-null  int64  \n",
      " 2   Pclass       1000000 non-null  int64  \n",
      " 3   Name         1000000 non-null  object \n",
      " 4   Sex          1000000 non-null  object \n",
      " 5   Age          801400 non-null   float64\n",
      " 6   SibSp        1000000 non-null  int64  \n",
      " 7   Parch        1000000 non-null  int64  \n",
      " 8   Ticket       1000000 non-null  object \n",
      " 9   Fare         1000000 non-null  float64\n",
      " 10  Cabin        229805 non-null   object \n",
      " 11  Embarked     997760 non-null   object \n",
      "dtypes: float64(2), int64(5), object(5)\n",
      "memory usage: 91.6+ MB\n",
      "\n",
      "--- Statistical Summary ---\n",
      "        PassengerId        Survived         Pclass            Age  \\\n",
      "count  1.000000e+06  1000000.000000  1000000.00000  801400.000000   \n",
      "mean   5.013095e+05        0.381681        2.31125      29.280339   \n",
      "std    2.886753e+05        0.485799        0.83577      12.744978   \n",
      "min    1.310000e+03        0.000000        1.00000       0.000000   \n",
      "25%    2.513098e+05        0.000000        2.00000      21.000000   \n",
      "50%    5.013095e+05        0.000000        3.00000      29.000000   \n",
      "75%    7.513092e+05        1.000000        3.00000      37.000000   \n",
      "max    1.001309e+06        1.000000        3.00000     114.000000   \n",
      "\n",
      "                SibSp           Parch            Fare  \n",
      "count  1000000.000000  1000000.000000  1000000.000000  \n",
      "mean         0.511101        0.360037       33.461097  \n",
      "std          1.104846        0.767296       47.976641  \n",
      "min          0.000000        0.000000        0.000000  \n",
      "25%          0.000000        0.000000        8.568924  \n",
      "50%          0.000000        0.000000       15.883647  \n",
      "75%          1.000000        0.000000       35.561000  \n",
      "max          8.000000        6.000000      640.883614  \n"
     ]
    }
   ],
   "source": [
    "import pandas as pd\n",
    "import numpy as np\n",
    "import seaborn as sns\n",
    "import matplotlib.pyplot as plt\n",
    "\n",
    "# Load the dataset\n",
    "# Make sure the CSV file is in the same folder as your notebook\n",
    "df = pd.read_csv('titanic_1M.csv')\n",
    "\n",
    "# 1. Look at the first 5 rows\n",
    "print(\"--- First 5 Rows ---\")\n",
    "print(df.head())\n",
    "\n",
    "# 2. Get a summary of columns, data types, and null values\n",
    "print(\"\\n--- Data Info ---\")\n",
    "df.info()\n",
    "\n",
    "# 3. Get statistical summary of numerical columns\n",
    "print(\"\\n--- Statistical Summary ---\")\n",
    "print(df.describe())"
   ]
  },
  {
   "cell_type": "code",
   "execution_count": null,
   "id": "81d11675-608b-48a5-8e01-89ba307b1999",
   "metadata": {},
   "outputs": [],
   "source": []
  },
  {
   "cell_type": "code",
   "execution_count": null,
   "id": "cc87f478-fef4-48ad-905b-f4054f302c86",
   "metadata": {},
   "outputs": [],
   "source": []
  }
 ],
 "metadata": {
  "kernelspec": {
   "display_name": "Python 3 (ipykernel)",
   "language": "python",
   "name": "python3"
  },
  "language_info": {
   "codemirror_mode": {
    "name": "ipython",
    "version": 3
   },
   "file_extension": ".py",
   "mimetype": "text/x-python",
   "name": "python",
   "nbconvert_exporter": "python",
   "pygments_lexer": "ipython3",
   "version": "3.13.5"
  }
 },
 "nbformat": 4,
 "nbformat_minor": 5
}
