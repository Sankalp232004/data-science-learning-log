{
 "cells": [
  {
   "cell_type": "code",
   "execution_count": null,
   "id": "4ba2734b-7223-469f-a2be-b057cb55ccbc",
   "metadata": {},
   "outputs": [],
   "source": []
  }
 ],
 "metadata": {
  "kernelspec": {
   "display_name": "",
   "name": ""
  },
  "language_info": {
   "name": ""
  }
 },
 "nbformat": 4,
 "nbformat_minor": 5
}
